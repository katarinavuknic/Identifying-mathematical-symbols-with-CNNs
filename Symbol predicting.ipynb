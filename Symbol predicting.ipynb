{
 "cells": [
  {
   "cell_type": "code",
   "execution_count": 1,
   "id": "20b566af-eb92-4528-9cf8-cb43e0d3cb8f",
   "metadata": {},
   "outputs": [],
   "source": [
    "from IPython.display import Image\n",
    "import csv\n",
    "from PIL import Image as pil_image\n",
    "import tensorflow as tf\n",
    "from keras.preprocessing import image\n",
    "import random\n",
    "import numpy as np\n",
    "from sklearn.preprocessing import LabelEncoder, OneHotEncoder\n",
    "from keras.models import Sequential\n",
    "from keras.layers import Dense, Dropout, Flatten\n",
    "from keras.layers import Conv2D, MaxPooling2D\n",
    "import keras.callbacks\n",
    "import keras.datasets\n",
    "import joblib\n",
    "import pickle"
   ]
  },
  {
   "cell_type": "code",
   "execution_count": 2,
   "id": "c7b30786-ac8d-40b9-91f2-2ab285963d8a",
   "metadata": {},
   "outputs": [],
   "source": [
    "imgs = []\n",
    "classes = []\n",
    "with open(\"dataset/hasy-data-labels.csv\") as csvfile:\n",
    "    csvreader = csv.reader(csvfile)\n",
    "    i = 0\n",
    "    for row in csvreader:\n",
    "        if i > 0:\n",
    "            img = image.img_to_array(pil_image.open(\"dataset/\"+row[0]))\n",
    "            img /= 255.0\n",
    "            imgs.append((row[0], row[2], img))\n",
    "            classes.append(row[2])\n",
    "        i += 1   "
   ]
  },
  {
   "cell_type": "code",
   "execution_count": 3,
   "id": "3cd9e0c7-3a52-4dc5-864b-c2b878cf1986",
   "metadata": {},
   "outputs": [],
   "source": [
    "random.shuffle(imgs)\n",
    "split_index = int(0.8*len(imgs))\n",
    "train = imgs[:split_index]\n",
    "test = imgs[split_index:]"
   ]
  },
  {
   "cell_type": "code",
   "execution_count": 4,
   "id": "8c849195-3c61-4c92-8045-0802a776e730",
   "metadata": {},
   "outputs": [],
   "source": [
    "train_input = np.asarray(list(map(lambda row: row[2], train)))\n",
    "test_input = np.asarray(list(map(lambda row: row[2], test)))\n",
    "\n",
    "train_output = np.asarray(list(map(lambda row: row[1], train)))\n",
    "test_output = np.asarray(list(map(lambda row: row[1],test)))"
   ]
  },
  {
   "cell_type": "code",
   "execution_count": 5,
   "id": "4d7afc6c-04b8-4932-8cab-7edc748df140",
   "metadata": {},
   "outputs": [
    {
     "name": "stdout",
     "output_type": "stream",
     "text": [
      "Number of classes 369 \n"
     ]
    }
   ],
   "source": [
    "label_encoder = LabelEncoder()\n",
    "integer_encoded = label_encoder.fit_transform(classes)\n",
    "\n",
    "onehot_encoder = OneHotEncoder(sparse_output=False)\n",
    "integer_encoded = integer_encoded.reshape(len(integer_encoded), 1)\n",
    "onehot_encoder.fit(integer_encoded)\n",
    "\n",
    "train_output_int = label_encoder.transform(train_output)\n",
    "train_output = onehot_encoder.transform(train_output_int.reshape(len(train_output_int),1))\n",
    "test_output_int = label_encoder.transform(test_output)\n",
    "test_output = onehot_encoder.transform(test_output_int.reshape(len(test_output_int), 1))\n",
    "\n",
    "num_classes = len(label_encoder.classes_)\n",
    "print(\"Number of classes %d \" % num_classes)"
   ]
  },
  {
   "cell_type": "code",
   "execution_count": 6,
   "id": "184ad2b7-c4af-40af-9033-66bb6b3201c8",
   "metadata": {},
   "outputs": [
    {
     "name": "stdout",
     "output_type": "stream",
     "text": [
      "Model: \"sequential\"\n",
      "_________________________________________________________________\n",
      " Layer (type)                Output Shape              Param #   \n",
      "=================================================================\n",
      " conv2d (Conv2D)             (None, 30, 30, 32)        896       \n",
      "                                                                 \n",
      " max_pooling2d (MaxPooling2  (None, 15, 15, 32)        0         \n",
      " D)                                                              \n",
      "                                                                 \n",
      " conv2d_1 (Conv2D)           (None, 13, 13, 32)        9248      \n",
      "                                                                 \n",
      " max_pooling2d_1 (MaxPoolin  (None, 6, 6, 32)          0         \n",
      " g2D)                                                            \n",
      "                                                                 \n",
      " flatten (Flatten)           (None, 1152)              0         \n",
      "                                                                 \n",
      " dense (Dense)               (None, 128)               147584    \n",
      "                                                                 \n",
      " dropout (Dropout)           (None, 128)               0         \n",
      "                                                                 \n",
      " dense_1 (Dense)             (None, 369)               47601     \n",
      "                                                                 \n",
      "=================================================================\n",
      "Total params: 205329 (802.07 KB)\n",
      "Trainable params: 205329 (802.07 KB)\n",
      "Non-trainable params: 0 (0.00 Byte)\n",
      "_________________________________________________________________\n",
      "None\n"
     ]
    }
   ],
   "source": [
    "model = Sequential()\n",
    "model.add(Conv2D(32, kernel_size=(3,3), activation='relu', input_shape=np.shape(train_input[0])))\n",
    "model.add(MaxPooling2D(pool_size=(2,2)))\n",
    "model.add(Conv2D(32, kernel_size=(3,3), activation='relu'))\n",
    "model.add(MaxPooling2D(pool_size=(2,2)))\n",
    "model.add(Flatten())\n",
    "model.add(Dense(128, activation='tanh'))\n",
    "model.add(Dropout(0.5))\n",
    "model.add(Dense(num_classes, activation='softmax'))\n",
    "\n",
    "model.compile(loss='categorical_crossentropy', optimizer='adam', metrics=['accuracy'])\n",
    "print(model.summary())"
   ]
  },
  {
   "cell_type": "code",
   "execution_count": 7,
   "id": "4c97eb4f-4b9c-43a0-a3d7-d94557801bdb",
   "metadata": {},
   "outputs": [],
   "source": [
    "# tensorboard = keras.callbacks.TensorBoard(log_dir='./logs/mnist-style')"
   ]
  },
  {
   "cell_type": "code",
   "execution_count": 8,
   "id": "51823644-8c58-4154-8794-cf25f9208b67",
   "metadata": {},
   "outputs": [
    {
     "name": "stdout",
     "output_type": "stream",
     "text": [
      "Epoch 1/10\n",
      "5258/5258 - 79s - loss: 1.8263 - accuracy: 0.5778 - 79s/epoch - 15ms/step\n",
      "Epoch 2/10\n",
      "5258/5258 - 77s - loss: 1.0992 - accuracy: 0.7027 - 77s/epoch - 15ms/step\n",
      "Epoch 3/10\n",
      "5258/5258 - 77s - loss: 0.9843 - accuracy: 0.7259 - 77s/epoch - 15ms/step\n",
      "Epoch 4/10\n",
      "5258/5258 - 77s - loss: 0.9217 - accuracy: 0.7396 - 77s/epoch - 15ms/step\n",
      "Epoch 5/10\n",
      "5258/5258 - 81s - loss: 0.8835 - accuracy: 0.7471 - 81s/epoch - 15ms/step\n",
      "Epoch 6/10\n",
      "5258/5258 - 82s - loss: 0.8549 - accuracy: 0.7526 - 82s/epoch - 16ms/step\n",
      "Epoch 7/10\n",
      "5258/5258 - 84s - loss: 0.8324 - accuracy: 0.7585 - 84s/epoch - 16ms/step\n",
      "Epoch 8/10\n",
      "5258/5258 - 83s - loss: 0.8159 - accuracy: 0.7614 - 83s/epoch - 16ms/step\n",
      "Epoch 9/10\n",
      "5258/5258 - 80s - loss: 0.7993 - accuracy: 0.7648 - 80s/epoch - 15ms/step\n",
      "Epoch 10/10\n",
      "5258/5258 - 76s - loss: 0.7898 - accuracy: 0.7669 - 76s/epoch - 14ms/step\n"
     ]
    },
    {
     "data": {
      "text/plain": [
       "<keras.src.callbacks.History at 0x1f49b88e5d0>"
      ]
     },
     "execution_count": 8,
     "metadata": {},
     "output_type": "execute_result"
    }
   ],
   "source": [
    "model.fit(np.concatenate((train_input, test_input)),\n",
    "          np.concatenate((train_output, test_output)),\n",
    "          batch_size=32, epochs=10, \n",
    "          verbose=2)\n",
    "\n",
    "# score = model.evaluate(test_input, test_output, verbose=1)\n",
    "# print(score)"
   ]
  },
  {
   "cell_type": "code",
   "execution_count": 9,
   "id": "49c1227f",
   "metadata": {},
   "outputs": [
    {
     "name": "stdout",
     "output_type": "stream",
     "text": [
      "INFO:tensorflow:Assets written to: mathsymbols.model\\assets\n"
     ]
    },
    {
     "name": "stderr",
     "output_type": "stream",
     "text": [
      "INFO:tensorflow:Assets written to: mathsymbols.model\\assets\n"
     ]
    }
   ],
   "source": [
    "model.save(\"mathsymbols.model\")\n",
    "np.save('classes.npy', label_encoder.classes_)"
   ]
  },
  {
   "cell_type": "code",
   "execution_count": 10,
   "id": "bf1b66f3-3039-43e5-bfbf-efdc4c428bcc",
   "metadata": {},
   "outputs": [],
   "source": [
    "# with open('model.pkl', 'wb') as file:\n",
    "#     pickle.dump(model, file)"
   ]
  }
 ],
 "metadata": {
  "kernelspec": {
   "display_name": "ai",
   "language": "python",
   "name": "ai"
  },
  "language_info": {
   "codemirror_mode": {
    "name": "ipython",
    "version": 3
   },
   "file_extension": ".py",
   "mimetype": "text/x-python",
   "name": "python",
   "nbconvert_exporter": "python",
   "pygments_lexer": "ipython3",
   "version": "3.11.5"
  }
 },
 "nbformat": 4,
 "nbformat_minor": 5
}
